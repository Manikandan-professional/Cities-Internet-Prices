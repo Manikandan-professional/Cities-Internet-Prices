{
  "nbformat": 4,
  "nbformat_minor": 0,
  "metadata": {
    "colab": {
      "name": "Cities Internet Prices.ipynb",
      "provenance": [],
      "authorship_tag": "ABX9TyNgUu1nXZ2zNJJk1VF82R3j",
      "include_colab_link": true
    },
    "kernelspec": {
      "name": "python3",
      "display_name": "Python 3"
    },
    "language_info": {
      "name": "python"
    }
  },
  "cells": [
    {
      "cell_type": "markdown",
      "metadata": {
        "id": "view-in-github",
        "colab_type": "text"
      },
      "source": [
        "<a href=\"https://colab.research.google.com/github/Manikandan-professional/Cities-Internet-Prices/blob/main/Cities_Internet_Prices.ipynb\" target=\"_parent\"><img src=\"https://colab.research.google.com/assets/colab-badge.svg\" alt=\"Open In Colab\"/></a>"
      ]
    },
    {
      "cell_type": "markdown",
      "metadata": {
        "id": "exLfUCxRqaKE"
      },
      "source": [
        "# **Cities Internet Prices**"
      ]
    },
    {
      "cell_type": "markdown",
      "metadata": {
        "id": "yVdW41mh1uZ5"
      },
      "source": [
        "**Importing the Necessary Moduels**"
      ]
    },
    {
      "cell_type": "code",
      "metadata": {
        "id": "o15kk1LggFRv"
      },
      "source": [
        "import pandas as pd\n",
        "import numpy as np"
      ],
      "execution_count": 138,
      "outputs": []
    },
    {
      "cell_type": "markdown",
      "metadata": {
        "id": "7629oYZA13v_"
      },
      "source": [
        "**Reading the csv file**"
      ]
    },
    {
      "cell_type": "code",
      "metadata": {
        "colab": {
          "base_uri": "https://localhost:8080/",
          "height": 414
        },
        "id": "S3JPdLqw10SU",
        "outputId": "c4afc9f6-9468-46ed-e708-d5438a0cf204"
      },
      "source": [
        "a=pd.read_csv('https://raw.githubusercontent.com/Manikandan-professional/Cities-Internet-Prices/main/cities_internet_prices.19-10-2021.csv')\n",
        "a"
      ],
      "execution_count": 139,
      "outputs": [
        {
          "output_type": "execute_result",
          "data": {
            "text/html": [
              "<div>\n",
              "<style scoped>\n",
              "    .dataframe tbody tr th:only-of-type {\n",
              "        vertical-align: middle;\n",
              "    }\n",
              "\n",
              "    .dataframe tbody tr th {\n",
              "        vertical-align: top;\n",
              "    }\n",
              "\n",
              "    .dataframe thead th {\n",
              "        text-align: right;\n",
              "    }\n",
              "</style>\n",
              "<table border=\"1\" class=\"dataframe\">\n",
              "  <thead>\n",
              "    <tr style=\"text-align: right;\">\n",
              "      <th></th>\n",
              "      <th>City</th>\n",
              "      <th>\"Region\"</th>\n",
              "      <th>\"Country\"</th>\n",
              "      <th>\"InternetPrice\"</th>\n",
              "    </tr>\n",
              "  </thead>\n",
              "  <tbody>\n",
              "    <tr>\n",
              "      <th>0</th>\n",
              "      <td>New York City</td>\n",
              "      <td>\"New York\"</td>\n",
              "      <td>\"United States of America\"</td>\n",
              "      <td>66.441395</td>\n",
              "    </tr>\n",
              "    <tr>\n",
              "      <th>1</th>\n",
              "      <td>Washington, D.C.</td>\n",
              "      <td>\"District of Columbia\"</td>\n",
              "      <td>\"United States of America\"</td>\n",
              "      <td>60.590455</td>\n",
              "    </tr>\n",
              "    <tr>\n",
              "      <th>2</th>\n",
              "      <td>San Francisco</td>\n",
              "      <td>\"California\"</td>\n",
              "      <td>\"United States of America\"</td>\n",
              "      <td>68.988824</td>\n",
              "    </tr>\n",
              "    <tr>\n",
              "      <th>3</th>\n",
              "      <td>Berlin</td>\n",
              "      <td>\"\"</td>\n",
              "      <td>\"Germany\"</td>\n",
              "      <td>35.827084</td>\n",
              "    </tr>\n",
              "    <tr>\n",
              "      <th>4</th>\n",
              "      <td>Los Angeles</td>\n",
              "      <td>\"California\"</td>\n",
              "      <td>\"United States of America\"</td>\n",
              "      <td>66.690222</td>\n",
              "    </tr>\n",
              "    <tr>\n",
              "      <th>...</th>\n",
              "      <td>...</td>\n",
              "      <td>...</td>\n",
              "      <td>...</td>\n",
              "      <td>...</td>\n",
              "    </tr>\n",
              "    <tr>\n",
              "      <th>514</th>\n",
              "      <td>Kaunas</td>\n",
              "      <td>\"\"</td>\n",
              "      <td>\"Lithuania\"</td>\n",
              "      <td>11.211636</td>\n",
              "    </tr>\n",
              "    <tr>\n",
              "      <th>515</th>\n",
              "      <td>Antwerp</td>\n",
              "      <td>\"Flemish Region\"</td>\n",
              "      <td>\"Belgium\"</td>\n",
              "      <td>54.136225</td>\n",
              "    </tr>\n",
              "    <tr>\n",
              "      <th>516</th>\n",
              "      <td>Zaragoza</td>\n",
              "      <td>\"Aragon\"</td>\n",
              "      <td>\"Spain\"</td>\n",
              "      <td>31.842382</td>\n",
              "    </tr>\n",
              "    <tr>\n",
              "      <th>517</th>\n",
              "      <td>Arlington</td>\n",
              "      <td>\"Virginia\"</td>\n",
              "      <td>\"United States of America\"</td>\n",
              "      <td>58.875000</td>\n",
              "    </tr>\n",
              "    <tr>\n",
              "      <th>518</th>\n",
              "      <td>Jubail</td>\n",
              "      <td>\"Eastern Province\"</td>\n",
              "      <td>\"Saudi Arabia\"</td>\n",
              "      <td>52.158321</td>\n",
              "    </tr>\n",
              "  </tbody>\n",
              "</table>\n",
              "<p>519 rows × 4 columns</p>\n",
              "</div>"
            ],
            "text/plain": [
              "                 City  ...  \"InternetPrice\"\n",
              "0       New York City  ...        66.441395\n",
              "1    Washington, D.C.  ...        60.590455\n",
              "2       San Francisco  ...        68.988824\n",
              "3              Berlin  ...        35.827084\n",
              "4         Los Angeles  ...        66.690222\n",
              "..                ...  ...              ...\n",
              "514            Kaunas  ...        11.211636\n",
              "515           Antwerp  ...        54.136225\n",
              "516          Zaragoza  ...        31.842382\n",
              "517         Arlington  ...        58.875000\n",
              "518            Jubail  ...        52.158321\n",
              "\n",
              "[519 rows x 4 columns]"
            ]
          },
          "metadata": {},
          "execution_count": 139
        }
      ]
    },
    {
      "cell_type": "markdown",
      "metadata": {
        "id": "MqMqafey2CdX"
      },
      "source": [
        "**Conversion of csv file to DataFrame**"
      ]
    },
    {
      "cell_type": "code",
      "metadata": {
        "id": "Mbc2S4P02C4g"
      },
      "source": [
        "df=pd.DataFrame(a)"
      ],
      "execution_count": 140,
      "outputs": []
    },
    {
      "cell_type": "markdown",
      "metadata": {
        "id": "qhO3FSg819QY"
      },
      "source": [
        "**First five row preview of the loaded dataset**"
      ]
    },
    {
      "cell_type": "code",
      "metadata": {
        "colab": {
          "base_uri": "https://localhost:8080/",
          "height": 202
        },
        "id": "sJNNIROr10PZ",
        "outputId": "f1965824-71e1-4094-f4a0-fcc47c1d7059"
      },
      "source": [
        "df.head()"
      ],
      "execution_count": 141,
      "outputs": [
        {
          "output_type": "execute_result",
          "data": {
            "text/html": [
              "<div>\n",
              "<style scoped>\n",
              "    .dataframe tbody tr th:only-of-type {\n",
              "        vertical-align: middle;\n",
              "    }\n",
              "\n",
              "    .dataframe tbody tr th {\n",
              "        vertical-align: top;\n",
              "    }\n",
              "\n",
              "    .dataframe thead th {\n",
              "        text-align: right;\n",
              "    }\n",
              "</style>\n",
              "<table border=\"1\" class=\"dataframe\">\n",
              "  <thead>\n",
              "    <tr style=\"text-align: right;\">\n",
              "      <th></th>\n",
              "      <th>City</th>\n",
              "      <th>\"Region\"</th>\n",
              "      <th>\"Country\"</th>\n",
              "      <th>\"InternetPrice\"</th>\n",
              "    </tr>\n",
              "  </thead>\n",
              "  <tbody>\n",
              "    <tr>\n",
              "      <th>0</th>\n",
              "      <td>New York City</td>\n",
              "      <td>\"New York\"</td>\n",
              "      <td>\"United States of America\"</td>\n",
              "      <td>66.441395</td>\n",
              "    </tr>\n",
              "    <tr>\n",
              "      <th>1</th>\n",
              "      <td>Washington, D.C.</td>\n",
              "      <td>\"District of Columbia\"</td>\n",
              "      <td>\"United States of America\"</td>\n",
              "      <td>60.590455</td>\n",
              "    </tr>\n",
              "    <tr>\n",
              "      <th>2</th>\n",
              "      <td>San Francisco</td>\n",
              "      <td>\"California\"</td>\n",
              "      <td>\"United States of America\"</td>\n",
              "      <td>68.988824</td>\n",
              "    </tr>\n",
              "    <tr>\n",
              "      <th>3</th>\n",
              "      <td>Berlin</td>\n",
              "      <td>\"\"</td>\n",
              "      <td>\"Germany\"</td>\n",
              "      <td>35.827084</td>\n",
              "    </tr>\n",
              "    <tr>\n",
              "      <th>4</th>\n",
              "      <td>Los Angeles</td>\n",
              "      <td>\"California\"</td>\n",
              "      <td>\"United States of America\"</td>\n",
              "      <td>66.690222</td>\n",
              "    </tr>\n",
              "  </tbody>\n",
              "</table>\n",
              "</div>"
            ],
            "text/plain": [
              "               City  ...  \"InternetPrice\"\n",
              "0     New York City  ...        66.441395\n",
              "1  Washington, D.C.  ...        60.590455\n",
              "2     San Francisco  ...        68.988824\n",
              "3            Berlin  ...        35.827084\n",
              "4       Los Angeles  ...        66.690222\n",
              "\n",
              "[5 rows x 4 columns]"
            ]
          },
          "metadata": {},
          "execution_count": 141
        }
      ]
    },
    {
      "cell_type": "markdown",
      "metadata": {
        "id": "Bjz5d6PE2Pm5"
      },
      "source": [
        "**Columns in the DataFrame(df)**"
      ]
    },
    {
      "cell_type": "code",
      "metadata": {
        "colab": {
          "base_uri": "https://localhost:8080/"
        },
        "id": "tL7fOiDH10Mg",
        "outputId": "ffb75a09-6fa8-4f58-9238-114fab036172"
      },
      "source": [
        "list(df.columns)"
      ],
      "execution_count": 142,
      "outputs": [
        {
          "output_type": "execute_result",
          "data": {
            "text/plain": [
              "['City', ' \"Region\"', ' \"Country\"', ' \"InternetPrice\"']"
            ]
          },
          "metadata": {},
          "execution_count": 142
        }
      ]
    },
    {
      "cell_type": "code",
      "metadata": {
        "colab": {
          "base_uri": "https://localhost:8080/"
        },
        "id": "Nfb-Ki8r2gwh",
        "outputId": "e8b195b0-48e2-4123-97a7-e8da937fe5fb"
      },
      "source": [
        "df.isnull().sum()"
      ],
      "execution_count": 143,
      "outputs": [
        {
          "output_type": "execute_result",
          "data": {
            "text/plain": [
              "City                0\n",
              " \"Region\"           0\n",
              " \"Country\"          0\n",
              " \"InternetPrice\"    0\n",
              "dtype: int64"
            ]
          },
          "metadata": {},
          "execution_count": 143
        }
      ]
    },
    {
      "cell_type": "code",
      "metadata": {
        "colab": {
          "base_uri": "https://localhost:8080/"
        },
        "id": "xlOkxguM10Jv",
        "outputId": "c3f71275-6ded-4a81-ea36-555a116d4f6c"
      },
      "source": [
        "df.info()"
      ],
      "execution_count": 144,
      "outputs": [
        {
          "output_type": "stream",
          "name": "stdout",
          "text": [
            "<class 'pandas.core.frame.DataFrame'>\n",
            "RangeIndex: 519 entries, 0 to 518\n",
            "Data columns (total 4 columns):\n",
            " #   Column            Non-Null Count  Dtype  \n",
            "---  ------            --------------  -----  \n",
            " 0   City              519 non-null    object \n",
            " 1    \"Region\"         519 non-null    object \n",
            " 2    \"Country\"        519 non-null    object \n",
            " 3    \"InternetPrice\"  519 non-null    float64\n",
            "dtypes: float64(1), object(3)\n",
            "memory usage: 16.3+ KB\n"
          ]
        }
      ]
    },
    {
      "cell_type": "code",
      "metadata": {
        "colab": {
          "base_uri": "https://localhost:8080/"
        },
        "id": "wP1tdqQ7q8XR",
        "outputId": "ad0d747b-287d-4513-fea7-b2bfeae799fa"
      },
      "source": [
        "df[' \"Region\"']"
      ],
      "execution_count": 145,
      "outputs": [
        {
          "output_type": "execute_result",
          "data": {
            "text/plain": [
              "0                   \"New York\"\n",
              "1       \"District of Columbia\"\n",
              "2                 \"California\"\n",
              "3                           \"\"\n",
              "4                 \"California\"\n",
              "                ...           \n",
              "514                         \"\"\n",
              "515           \"Flemish Region\"\n",
              "516                   \"Aragon\"\n",
              "517                 \"Virginia\"\n",
              "518         \"Eastern Province\"\n",
              "Name:  \"Region\", Length: 519, dtype: object"
            ]
          },
          "metadata": {},
          "execution_count": 145
        }
      ]
    },
    {
      "cell_type": "code",
      "metadata": {
        "colab": {
          "base_uri": "https://localhost:8080/"
        },
        "id": "7qcCAPM4q8RT",
        "outputId": "23586a8b-6c6e-4422-bfff-3f6a38956d0f"
      },
      "source": [
        "df.info()"
      ],
      "execution_count": 146,
      "outputs": [
        {
          "output_type": "stream",
          "name": "stdout",
          "text": [
            "<class 'pandas.core.frame.DataFrame'>\n",
            "RangeIndex: 519 entries, 0 to 518\n",
            "Data columns (total 4 columns):\n",
            " #   Column            Non-Null Count  Dtype  \n",
            "---  ------            --------------  -----  \n",
            " 0   City              519 non-null    object \n",
            " 1    \"Region\"         519 non-null    object \n",
            " 2    \"Country\"        519 non-null    object \n",
            " 3    \"InternetPrice\"  519 non-null    float64\n",
            "dtypes: float64(1), object(3)\n",
            "memory usage: 16.3+ KB\n"
          ]
        }
      ]
    },
    {
      "cell_type": "markdown",
      "metadata": {
        "id": "BLUQpLyPtniG"
      },
      "source": [
        "**Identifying the Datatypes of the DataFrame(df)**"
      ]
    },
    {
      "cell_type": "code",
      "metadata": {
        "colab": {
          "base_uri": "https://localhost:8080/"
        },
        "id": "cZHlN_i2q8O2",
        "outputId": "11aae044-ca3b-461b-ac44-b060392532db"
      },
      "source": [
        "df.dtypes"
      ],
      "execution_count": 147,
      "outputs": [
        {
          "output_type": "execute_result",
          "data": {
            "text/plain": [
              "City                 object\n",
              " \"Region\"            object\n",
              " \"Country\"           object\n",
              " \"InternetPrice\"    float64\n",
              "dtype: object"
            ]
          },
          "metadata": {},
          "execution_count": 147
        }
      ]
    },
    {
      "cell_type": "markdown",
      "metadata": {
        "id": "La2byGTOtd_-"
      },
      "source": [
        "**Renaming the Column name by removing --\"--**"
      ]
    },
    {
      "cell_type": "code",
      "metadata": {
        "id": "38D9FbCrq8MP"
      },
      "source": [
        "df=df.rename(columns={'City':'City',' \"Region\"':'Region',' \"Country\"':'Country',' \"InternetPrice\"':'InternetPrice'})"
      ],
      "execution_count": 148,
      "outputs": []
    },
    {
      "cell_type": "code",
      "metadata": {
        "colab": {
          "base_uri": "https://localhost:8080/"
        },
        "id": "h10hrb5Yy3R9",
        "outputId": "5225a91c-3a72-42ca-d704-00d9b5d1e7dc"
      },
      "source": [
        "df.dtypes"
      ],
      "execution_count": 149,
      "outputs": [
        {
          "output_type": "execute_result",
          "data": {
            "text/plain": [
              "City              object\n",
              "Region            object\n",
              "Country           object\n",
              "InternetPrice    float64\n",
              "dtype: object"
            ]
          },
          "metadata": {},
          "execution_count": 149
        }
      ]
    },
    {
      "cell_type": "markdown",
      "metadata": {
        "id": "UaoPSJ8r0OB2"
      },
      "source": [
        "**Data Cleaning and removing --\"-- from the datapoints**"
      ]
    },
    {
      "cell_type": "code",
      "metadata": {
        "id": "3yVBYAuxyqC5"
      },
      "source": [
        "reg=pd.DataFrame(df['Region'].str.replace('\"',''))\n",
        "Coun=pd.DataFrame(df['Country'].str.replace('\"',''))"
      ],
      "execution_count": 150,
      "outputs": []
    },
    {
      "cell_type": "code",
      "metadata": {
        "id": "jce7_yaJy7L8"
      },
      "source": [
        "df['Region']=reg['Region']\n",
        "df['Country']=Coun['Country']"
      ],
      "execution_count": 151,
      "outputs": []
    },
    {
      "cell_type": "markdown",
      "metadata": {
        "id": "rQPIT45sDtf_"
      },
      "source": [
        "**Preview**"
      ]
    },
    {
      "cell_type": "code",
      "metadata": {
        "colab": {
          "base_uri": "https://localhost:8080/",
          "height": 202
        },
        "id": "jJ_ygIdCzw9T",
        "outputId": "797a9673-9a6a-48cb-963f-e7d73ec6a6ca"
      },
      "source": [
        "df.head()"
      ],
      "execution_count": 152,
      "outputs": [
        {
          "output_type": "execute_result",
          "data": {
            "text/html": [
              "<div>\n",
              "<style scoped>\n",
              "    .dataframe tbody tr th:only-of-type {\n",
              "        vertical-align: middle;\n",
              "    }\n",
              "\n",
              "    .dataframe tbody tr th {\n",
              "        vertical-align: top;\n",
              "    }\n",
              "\n",
              "    .dataframe thead th {\n",
              "        text-align: right;\n",
              "    }\n",
              "</style>\n",
              "<table border=\"1\" class=\"dataframe\">\n",
              "  <thead>\n",
              "    <tr style=\"text-align: right;\">\n",
              "      <th></th>\n",
              "      <th>City</th>\n",
              "      <th>Region</th>\n",
              "      <th>Country</th>\n",
              "      <th>InternetPrice</th>\n",
              "    </tr>\n",
              "  </thead>\n",
              "  <tbody>\n",
              "    <tr>\n",
              "      <th>0</th>\n",
              "      <td>New York City</td>\n",
              "      <td>New York</td>\n",
              "      <td>United States of America</td>\n",
              "      <td>66.441395</td>\n",
              "    </tr>\n",
              "    <tr>\n",
              "      <th>1</th>\n",
              "      <td>Washington, D.C.</td>\n",
              "      <td>District of Columbia</td>\n",
              "      <td>United States of America</td>\n",
              "      <td>60.590455</td>\n",
              "    </tr>\n",
              "    <tr>\n",
              "      <th>2</th>\n",
              "      <td>San Francisco</td>\n",
              "      <td>California</td>\n",
              "      <td>United States of America</td>\n",
              "      <td>68.988824</td>\n",
              "    </tr>\n",
              "    <tr>\n",
              "      <th>3</th>\n",
              "      <td>Berlin</td>\n",
              "      <td></td>\n",
              "      <td>Germany</td>\n",
              "      <td>35.827084</td>\n",
              "    </tr>\n",
              "    <tr>\n",
              "      <th>4</th>\n",
              "      <td>Los Angeles</td>\n",
              "      <td>California</td>\n",
              "      <td>United States of America</td>\n",
              "      <td>66.690222</td>\n",
              "    </tr>\n",
              "  </tbody>\n",
              "</table>\n",
              "</div>"
            ],
            "text/plain": [
              "               City  ... InternetPrice\n",
              "0     New York City  ...     66.441395\n",
              "1  Washington, D.C.  ...     60.590455\n",
              "2     San Francisco  ...     68.988824\n",
              "3            Berlin  ...     35.827084\n",
              "4       Los Angeles  ...     66.690222\n",
              "\n",
              "[5 rows x 4 columns]"
            ]
          },
          "metadata": {},
          "execution_count": 152
        }
      ]
    },
    {
      "cell_type": "code",
      "metadata": {
        "colab": {
          "base_uri": "https://localhost:8080/"
        },
        "id": "2FitsxMND-yH",
        "outputId": "09d1db9c-77ff-4f80-c179-153460b98b48"
      },
      "source": [
        "df.info()"
      ],
      "execution_count": 153,
      "outputs": [
        {
          "output_type": "stream",
          "name": "stdout",
          "text": [
            "<class 'pandas.core.frame.DataFrame'>\n",
            "RangeIndex: 519 entries, 0 to 518\n",
            "Data columns (total 4 columns):\n",
            " #   Column         Non-Null Count  Dtype  \n",
            "---  ------         --------------  -----  \n",
            " 0   City           519 non-null    object \n",
            " 1   Region         519 non-null    object \n",
            " 2   Country        519 non-null    object \n",
            " 3   InternetPrice  519 non-null    float64\n",
            "dtypes: float64(1), object(3)\n",
            "memory usage: 16.3+ KB\n"
          ]
        }
      ]
    },
    {
      "cell_type": "code",
      "metadata": {
        "colab": {
          "base_uri": "https://localhost:8080/",
          "height": 294
        },
        "id": "OkgOnceLEAMu",
        "outputId": "5abedf38-c19e-478b-e83b-9e6bf80fdb36"
      },
      "source": [
        "df.describe()"
      ],
      "execution_count": 154,
      "outputs": [
        {
          "output_type": "execute_result",
          "data": {
            "text/html": [
              "<div>\n",
              "<style scoped>\n",
              "    .dataframe tbody tr th:only-of-type {\n",
              "        vertical-align: middle;\n",
              "    }\n",
              "\n",
              "    .dataframe tbody tr th {\n",
              "        vertical-align: top;\n",
              "    }\n",
              "\n",
              "    .dataframe thead th {\n",
              "        text-align: right;\n",
              "    }\n",
              "</style>\n",
              "<table border=\"1\" class=\"dataframe\">\n",
              "  <thead>\n",
              "    <tr style=\"text-align: right;\">\n",
              "      <th></th>\n",
              "      <th>InternetPrice</th>\n",
              "    </tr>\n",
              "  </thead>\n",
              "  <tbody>\n",
              "    <tr>\n",
              "      <th>count</th>\n",
              "      <td>519.000000</td>\n",
              "    </tr>\n",
              "    <tr>\n",
              "      <th>mean</th>\n",
              "      <td>39.384011</td>\n",
              "    </tr>\n",
              "    <tr>\n",
              "      <th>std</th>\n",
              "      <td>23.159182</td>\n",
              "    </tr>\n",
              "    <tr>\n",
              "      <th>min</th>\n",
              "      <td>3.896393</td>\n",
              "    </tr>\n",
              "    <tr>\n",
              "      <th>25%</th>\n",
              "      <td>20.101359</td>\n",
              "    </tr>\n",
              "    <tr>\n",
              "      <th>50%</th>\n",
              "      <td>36.404746</td>\n",
              "    </tr>\n",
              "    <tr>\n",
              "      <th>75%</th>\n",
              "      <td>58.826389</td>\n",
              "    </tr>\n",
              "    <tr>\n",
              "      <th>max</th>\n",
              "      <td>112.940326</td>\n",
              "    </tr>\n",
              "  </tbody>\n",
              "</table>\n",
              "</div>"
            ],
            "text/plain": [
              "       InternetPrice\n",
              "count     519.000000\n",
              "mean       39.384011\n",
              "std        23.159182\n",
              "min         3.896393\n",
              "25%        20.101359\n",
              "50%        36.404746\n",
              "75%        58.826389\n",
              "max       112.940326"
            ]
          },
          "metadata": {},
          "execution_count": 154
        }
      ]
    },
    {
      "cell_type": "code",
      "metadata": {
        "colab": {
          "base_uri": "https://localhost:8080/"
        },
        "id": "s0P_OioyDrWW",
        "outputId": "0199fa83-47ca-4da2-f1e4-1a3a1286c5e6"
      },
      "source": [
        "df.Country.unique()"
      ],
      "execution_count": 157,
      "outputs": [
        {
          "output_type": "execute_result",
          "data": {
            "text/plain": [
              "array([' United States of America', ' Germany', ' Switzerland',\n",
              "       ' United Kingdom', ' Egypt', ' France', ' Canada', ' Brazil',\n",
              "       ' Lithuania', ' Belgium', ' Poland', ' Uzbekistan', ' Singapore',\n",
              "       ' North Macedonia', ' Slovenia', ' Bulgaria', ' Italy', ' Norway',\n",
              "       ' Portugal', ' United Arab Emirates', ' Russia',\n",
              "       \" People's Republic of China\", ' Georgia', ' India',\n",
              "       ' Czech Republic', ' Israel', ' Uruguay', ' Bangladesh',\n",
              "       ' Pakistan', ' Croatia', ' Philippines', ' Argentina', ' Mexico',\n",
              "       ' Japan', ' Bolivia', ' Spain', ' Greece', ' Venezuela',\n",
              "       ' Guatemala', ' Austria', ' Sweden', ' Finland', ' Ireland',\n",
              "       ' Iceland', ' Estonia', ' Latvia', ' Slovakia', ' Hungary',\n",
              "       ' Luxembourg', ' Cambodia', ' Vietnam', ' Thailand', ' Malaysia',\n",
              "       ' Taiwan', ' Ukraine', ' Chile', ' Armenia', ' Tanzania',\n",
              "       ' Belarus', ' The Bahamas', ' Colombia', ' Peru', ' Ecuador',\n",
              "       ' Paraguay', ' Nepal', ' Costa Rica', ' El Salvador', ' Australia',\n",
              "       ' Honduras', ' Nicaragua', ' Panama', ' Morocco', ' Algeria',\n",
              "       ' Tunisia', ' Iran', ' Indonesia', ' Turkey', ' Saudi Arabia',\n",
              "       ' Serbia', ' Ghana', ' Jordan', ' Lebanon', ' Oman', ' Qatar',\n",
              "       ' Kenya', ' Bahrain', ' Uganda', ' Botswana', ' Zimbabwe',\n",
              "       ' South Africa', ' Namibia', ' Nigeria', ' South Korea',\n",
              "       ' Azerbaijan', ' Brunei', ' Maldives', ' Kyrgyzstan',\n",
              "       ' Bosnia and Herzegovina', ' Romania', ' Albania', ' Montenegro',\n",
              "       ' New Zealand', ' Dominican Republic', ' Kuwait', ' Sri Lanka',\n",
              "       ' Kazakhstan', ' Trinidad and Tobago', ' Iraq', ' Cyprus'],\n",
              "      dtype=object)"
            ]
          },
          "metadata": {},
          "execution_count": 157
        }
      ]
    },
    {
      "cell_type": "code",
      "metadata": {
        "colab": {
          "base_uri": "https://localhost:8080/",
          "height": 533
        },
        "id": "auVp1z3xEG1d",
        "outputId": "991407d8-60a5-4a61-b5fa-f8e2658a44dc"
      },
      "source": [
        "import matplotlib.pyplot as plt\n",
        "plt.figure(figsize=(16,8),dpi=80)\n",
        "ax=plt.axes()\n",
        "ax.set_facecolor('black')\n",
        "plt.scatter(df.InternetPrice,df.index,color='white',s=10)\n",
        "plt.show()"
      ],
      "execution_count": 158,
      "outputs": [
        {
          "output_type": "display_data",
          "data": {
            "image/png": "[encoded data removed]",
            "text/plain": [
              "<Figure size 1280x640 with 1 Axes>"
            ]
          },
          "metadata": {
            "needs_background": "light"
          }
        }
      ]
    }
  ]
}