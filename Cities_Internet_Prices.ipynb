{
  "nbformat": 4,
  "nbformat_minor": 0,
  "metadata": {
    "colab": {
      "name": "Cities Internet Prices.ipynb",
      "provenance": [],
      "authorship_tag": "ABX9TyOmNGbdoPozo7QkWaw/ILuR",
      "include_colab_link": true
    },
    "kernelspec": {
      "name": "python3",
      "display_name": "Python 3"
    },
    "language_info": {
      "name": "python"
    }
  },
  "cells": [
    {
      "cell_type": "markdown",
      "metadata": {
        "id": "view-in-github",
        "colab_type": "text"
      },
      "source": [
        "<a href=\"https://colab.research.google.com/github/Manikandan-professional/Cities-Internet-Prices/blob/main/Cities_Internet_Prices.ipynb\" target=\"_parent\"><img src=\"https://colab.research.google.com/assets/colab-badge.svg\" alt=\"Open In Colab\"/></a>"
      ]
    },
    {
      "cell_type": "markdown",
      "metadata": {
        "id": "exLfUCxRqaKE"
      },
      "source": [
        "# **Cities Internet Prices**"
      ]
    },
    {
      "cell_type": "markdown",
      "metadata": {
        "id": "yVdW41mh1uZ5"
      },
      "source": [
        "**Importing the Necessary Moduels**"
      ]
    },
    {
      "cell_type": "code",
      "metadata": {
        "id": "o15kk1LggFRv"
      },
      "source": [
        "import pandas as pd\n",
        "import numpy as np"
      ],
      "execution_count": 74,
      "outputs": []
    },
    {
      "cell_type": "markdown",
      "metadata": {
        "id": "7629oYZA13v_"
      },
      "source": [
        "**Reading the csv file**"
      ]
    },
    {
      "cell_type": "code",
      "metadata": {
        "colab": {
          "base_uri": "https://localhost:8080/",
          "height": 414
        },
        "id": "S3JPdLqw10SU",
        "outputId": "d16cab67-2704-4dfc-8366-77831091bf6d"
      },
      "source": [
        "a=pd.read_csv('https://raw.githubusercontent.com/Manikandan-professional/Cities-Internet-Prices/main/cities_internet_prices.19-10-2021.csv')\n",
        "a"
      ],
      "execution_count": 75,
      "outputs": [
        {
          "output_type": "execute_result",
          "data": {
            "text/html": [
              "<div>\n",
              "<style scoped>\n",
              "    .dataframe tbody tr th:only-of-type {\n",
              "        vertical-align: middle;\n",
              "    }\n",
              "\n",
              "    .dataframe tbody tr th {\n",
              "        vertical-align: top;\n",
              "    }\n",
              "\n",
              "    .dataframe thead th {\n",
              "        text-align: right;\n",
              "    }\n",
              "</style>\n",
              "<table border=\"1\" class=\"dataframe\">\n",
              "  <thead>\n",
              "    <tr style=\"text-align: right;\">\n",
              "      <th></th>\n",
              "      <th>City</th>\n",
              "      <th>\"Region\"</th>\n",
              "      <th>\"Country\"</th>\n",
              "      <th>\"InternetPrice\"</th>\n",
              "    </tr>\n",
              "  </thead>\n",
              "  <tbody>\n",
              "    <tr>\n",
              "      <th>0</th>\n",
              "      <td>New York City</td>\n",
              "      <td>\"New York\"</td>\n",
              "      <td>\"United States of America\"</td>\n",
              "      <td>66.441395</td>\n",
              "    </tr>\n",
              "    <tr>\n",
              "      <th>1</th>\n",
              "      <td>Washington, D.C.</td>\n",
              "      <td>\"District of Columbia\"</td>\n",
              "      <td>\"United States of America\"</td>\n",
              "      <td>60.590455</td>\n",
              "    </tr>\n",
              "    <tr>\n",
              "      <th>2</th>\n",
              "      <td>San Francisco</td>\n",
              "      <td>\"California\"</td>\n",
              "      <td>\"United States of America\"</td>\n",
              "      <td>68.988824</td>\n",
              "    </tr>\n",
              "    <tr>\n",
              "      <th>3</th>\n",
              "      <td>Berlin</td>\n",
              "      <td>\"\"</td>\n",
              "      <td>\"Germany\"</td>\n",
              "      <td>35.827084</td>\n",
              "    </tr>\n",
              "    <tr>\n",
              "      <th>4</th>\n",
              "      <td>Los Angeles</td>\n",
              "      <td>\"California\"</td>\n",
              "      <td>\"United States of America\"</td>\n",
              "      <td>66.690222</td>\n",
              "    </tr>\n",
              "    <tr>\n",
              "      <th>...</th>\n",
              "      <td>...</td>\n",
              "      <td>...</td>\n",
              "      <td>...</td>\n",
              "      <td>...</td>\n",
              "    </tr>\n",
              "    <tr>\n",
              "      <th>514</th>\n",
              "      <td>Kaunas</td>\n",
              "      <td>\"\"</td>\n",
              "      <td>\"Lithuania\"</td>\n",
              "      <td>11.211636</td>\n",
              "    </tr>\n",
              "    <tr>\n",
              "      <th>515</th>\n",
              "      <td>Antwerp</td>\n",
              "      <td>\"Flemish Region\"</td>\n",
              "      <td>\"Belgium\"</td>\n",
              "      <td>54.136225</td>\n",
              "    </tr>\n",
              "    <tr>\n",
              "      <th>516</th>\n",
              "      <td>Zaragoza</td>\n",
              "      <td>\"Aragon\"</td>\n",
              "      <td>\"Spain\"</td>\n",
              "      <td>31.842382</td>\n",
              "    </tr>\n",
              "    <tr>\n",
              "      <th>517</th>\n",
              "      <td>Arlington</td>\n",
              "      <td>\"Virginia\"</td>\n",
              "      <td>\"United States of America\"</td>\n",
              "      <td>58.875000</td>\n",
              "    </tr>\n",
              "    <tr>\n",
              "      <th>518</th>\n",
              "      <td>Jubail</td>\n",
              "      <td>\"Eastern Province\"</td>\n",
              "      <td>\"Saudi Arabia\"</td>\n",
              "      <td>52.158321</td>\n",
              "    </tr>\n",
              "  </tbody>\n",
              "</table>\n",
              "<p>519 rows × 4 columns</p>\n",
              "</div>"
            ],
            "text/plain": [
              "                 City  ...  \"InternetPrice\"\n",
              "0       New York City  ...        66.441395\n",
              "1    Washington, D.C.  ...        60.590455\n",
              "2       San Francisco  ...        68.988824\n",
              "3              Berlin  ...        35.827084\n",
              "4         Los Angeles  ...        66.690222\n",
              "..                ...  ...              ...\n",
              "514            Kaunas  ...        11.211636\n",
              "515           Antwerp  ...        54.136225\n",
              "516          Zaragoza  ...        31.842382\n",
              "517         Arlington  ...        58.875000\n",
              "518            Jubail  ...        52.158321\n",
              "\n",
              "[519 rows x 4 columns]"
            ]
          },
          "metadata": {},
          "execution_count": 75
        }
      ]
    },
    {
      "cell_type": "markdown",
      "metadata": {
        "id": "MqMqafey2CdX"
      },
      "source": [
        "**Conversion of csv file to DataFrame**"
      ]
    },
    {
      "cell_type": "code",
      "metadata": {
        "id": "Mbc2S4P02C4g"
      },
      "source": [
        "df=pd.DataFrame(a)"
      ],
      "execution_count": 76,
      "outputs": []
    },
    {
      "cell_type": "markdown",
      "metadata": {
        "id": "qhO3FSg819QY"
      },
      "source": [
        "**First five row preview of the loaded dataset**"
      ]
    },
    {
      "cell_type": "code",
      "metadata": {
        "colab": {
          "base_uri": "https://localhost:8080/",
          "height": 202
        },
        "id": "sJNNIROr10PZ",
        "outputId": "9cc18fee-62b7-42e7-885e-7079856462e0"
      },
      "source": [
        "df.head()"
      ],
      "execution_count": 77,
      "outputs": [
        {
          "output_type": "execute_result",
          "data": {
            "text/html": [
              "<div>\n",
              "<style scoped>\n",
              "    .dataframe tbody tr th:only-of-type {\n",
              "        vertical-align: middle;\n",
              "    }\n",
              "\n",
              "    .dataframe tbody tr th {\n",
              "        vertical-align: top;\n",
              "    }\n",
              "\n",
              "    .dataframe thead th {\n",
              "        text-align: right;\n",
              "    }\n",
              "</style>\n",
              "<table border=\"1\" class=\"dataframe\">\n",
              "  <thead>\n",
              "    <tr style=\"text-align: right;\">\n",
              "      <th></th>\n",
              "      <th>City</th>\n",
              "      <th>\"Region\"</th>\n",
              "      <th>\"Country\"</th>\n",
              "      <th>\"InternetPrice\"</th>\n",
              "    </tr>\n",
              "  </thead>\n",
              "  <tbody>\n",
              "    <tr>\n",
              "      <th>0</th>\n",
              "      <td>New York City</td>\n",
              "      <td>\"New York\"</td>\n",
              "      <td>\"United States of America\"</td>\n",
              "      <td>66.441395</td>\n",
              "    </tr>\n",
              "    <tr>\n",
              "      <th>1</th>\n",
              "      <td>Washington, D.C.</td>\n",
              "      <td>\"District of Columbia\"</td>\n",
              "      <td>\"United States of America\"</td>\n",
              "      <td>60.590455</td>\n",
              "    </tr>\n",
              "    <tr>\n",
              "      <th>2</th>\n",
              "      <td>San Francisco</td>\n",
              "      <td>\"California\"</td>\n",
              "      <td>\"United States of America\"</td>\n",
              "      <td>68.988824</td>\n",
              "    </tr>\n",
              "    <tr>\n",
              "      <th>3</th>\n",
              "      <td>Berlin</td>\n",
              "      <td>\"\"</td>\n",
              "      <td>\"Germany\"</td>\n",
              "      <td>35.827084</td>\n",
              "    </tr>\n",
              "    <tr>\n",
              "      <th>4</th>\n",
              "      <td>Los Angeles</td>\n",
              "      <td>\"California\"</td>\n",
              "      <td>\"United States of America\"</td>\n",
              "      <td>66.690222</td>\n",
              "    </tr>\n",
              "  </tbody>\n",
              "</table>\n",
              "</div>"
            ],
            "text/plain": [
              "               City  ...  \"InternetPrice\"\n",
              "0     New York City  ...        66.441395\n",
              "1  Washington, D.C.  ...        60.590455\n",
              "2     San Francisco  ...        68.988824\n",
              "3            Berlin  ...        35.827084\n",
              "4       Los Angeles  ...        66.690222\n",
              "\n",
              "[5 rows x 4 columns]"
            ]
          },
          "metadata": {},
          "execution_count": 77
        }
      ]
    },
    {
      "cell_type": "markdown",
      "metadata": {
        "id": "Bjz5d6PE2Pm5"
      },
      "source": [
        "**Columns in the DataFrame(df)**"
      ]
    },
    {
      "cell_type": "code",
      "metadata": {
        "colab": {
          "base_uri": "https://localhost:8080/"
        },
        "id": "tL7fOiDH10Mg",
        "outputId": "180e6858-f8a5-49cd-9348-e7a47c4cbf6d"
      },
      "source": [
        "list(df.columns)"
      ],
      "execution_count": 78,
      "outputs": [
        {
          "output_type": "execute_result",
          "data": {
            "text/plain": [
              "['City', ' \"Region\"', ' \"Country\"', ' \"InternetPrice\"']"
            ]
          },
          "metadata": {},
          "execution_count": 78
        }
      ]
    },
    {
      "cell_type": "code",
      "metadata": {
        "colab": {
          "base_uri": "https://localhost:8080/"
        },
        "id": "Nfb-Ki8r2gwh",
        "outputId": "e4088610-27dd-487f-9011-b4810264b795"
      },
      "source": [
        "df.isnull().sum()"
      ],
      "execution_count": 79,
      "outputs": [
        {
          "output_type": "execute_result",
          "data": {
            "text/plain": [
              "City                0\n",
              " \"Region\"           0\n",
              " \"Country\"          0\n",
              " \"InternetPrice\"    0\n",
              "dtype: int64"
            ]
          },
          "metadata": {},
          "execution_count": 79
        }
      ]
    },
    {
      "cell_type": "code",
      "metadata": {
        "colab": {
          "base_uri": "https://localhost:8080/"
        },
        "id": "xlOkxguM10Jv",
        "outputId": "66f617da-a141-4601-b6e2-d87729bd47ab"
      },
      "source": [
        "df.info()"
      ],
      "execution_count": 80,
      "outputs": [
        {
          "output_type": "stream",
          "name": "stdout",
          "text": [
            "<class 'pandas.core.frame.DataFrame'>\n",
            "RangeIndex: 519 entries, 0 to 518\n",
            "Data columns (total 4 columns):\n",
            " #   Column            Non-Null Count  Dtype  \n",
            "---  ------            --------------  -----  \n",
            " 0   City              519 non-null    object \n",
            " 1    \"Region\"         519 non-null    object \n",
            " 2    \"Country\"        519 non-null    object \n",
            " 3    \"InternetPrice\"  519 non-null    float64\n",
            "dtypes: float64(1), object(3)\n",
            "memory usage: 16.3+ KB\n"
          ]
        }
      ]
    },
    {
      "cell_type": "code",
      "metadata": {
        "colab": {
          "base_uri": "https://localhost:8080/"
        },
        "id": "wP1tdqQ7q8XR",
        "outputId": "0adb020b-41fa-4472-8761-106c5e3f09a0"
      },
      "source": [
        "df[' \"Region\"']"
      ],
      "execution_count": 81,
      "outputs": [
        {
          "output_type": "execute_result",
          "data": {
            "text/plain": [
              "0                   \"New York\"\n",
              "1       \"District of Columbia\"\n",
              "2                 \"California\"\n",
              "3                           \"\"\n",
              "4                 \"California\"\n",
              "                ...           \n",
              "514                         \"\"\n",
              "515           \"Flemish Region\"\n",
              "516                   \"Aragon\"\n",
              "517                 \"Virginia\"\n",
              "518         \"Eastern Province\"\n",
              "Name:  \"Region\", Length: 519, dtype: object"
            ]
          },
          "metadata": {},
          "execution_count": 81
        }
      ]
    },
    {
      "cell_type": "code",
      "metadata": {
        "colab": {
          "base_uri": "https://localhost:8080/"
        },
        "id": "7qcCAPM4q8RT",
        "outputId": "b6941eb6-42d9-41b1-f90f-c544d579d7f1"
      },
      "source": [
        "df.info()"
      ],
      "execution_count": 82,
      "outputs": [
        {
          "output_type": "stream",
          "name": "stdout",
          "text": [
            "<class 'pandas.core.frame.DataFrame'>\n",
            "RangeIndex: 519 entries, 0 to 518\n",
            "Data columns (total 4 columns):\n",
            " #   Column            Non-Null Count  Dtype  \n",
            "---  ------            --------------  -----  \n",
            " 0   City              519 non-null    object \n",
            " 1    \"Region\"         519 non-null    object \n",
            " 2    \"Country\"        519 non-null    object \n",
            " 3    \"InternetPrice\"  519 non-null    float64\n",
            "dtypes: float64(1), object(3)\n",
            "memory usage: 16.3+ KB\n"
          ]
        }
      ]
    },
    {
      "cell_type": "markdown",
      "metadata": {
        "id": "BLUQpLyPtniG"
      },
      "source": [
        "**Identifying the Datatypes of the DataFrame(df)**"
      ]
    },
    {
      "cell_type": "code",
      "metadata": {
        "colab": {
          "base_uri": "https://localhost:8080/"
        },
        "id": "cZHlN_i2q8O2",
        "outputId": "0ef222db-6b07-4e2b-e198-7b4d40fcb2af"
      },
      "source": [
        "df.dtypes"
      ],
      "execution_count": 83,
      "outputs": [
        {
          "output_type": "execute_result",
          "data": {
            "text/plain": [
              "City                 object\n",
              " \"Region\"            object\n",
              " \"Country\"           object\n",
              " \"InternetPrice\"    float64\n",
              "dtype: object"
            ]
          },
          "metadata": {},
          "execution_count": 83
        }
      ]
    },
    {
      "cell_type": "markdown",
      "metadata": {
        "id": "La2byGTOtd_-"
      },
      "source": [
        "**Renaming the Column name by removing --\"--**"
      ]
    },
    {
      "cell_type": "code",
      "metadata": {
        "id": "38D9FbCrq8MP"
      },
      "source": [
        "df=df.rename(columns={'City':'City',' \"Region\"':'Region',' \"Country\"':'Country',' \"InternetPrice\"':'InternetPrice'})"
      ],
      "execution_count": 89,
      "outputs": []
    },
    {
      "cell_type": "code",
      "metadata": {
        "colab": {
          "base_uri": "https://localhost:8080/"
        },
        "id": "h10hrb5Yy3R9",
        "outputId": "eadd5d80-32d9-4072-b2ce-e637c316447d"
      },
      "source": [
        "df.dtypes"
      ],
      "execution_count": 90,
      "outputs": [
        {
          "output_type": "execute_result",
          "data": {
            "text/plain": [
              "City              object\n",
              "Region            object\n",
              "Country           object\n",
              "InternetPrice    float64\n",
              "dtype: object"
            ]
          },
          "metadata": {},
          "execution_count": 90
        }
      ]
    },
    {
      "cell_type": "markdown",
      "metadata": {
        "id": "UaoPSJ8r0OB2"
      },
      "source": [
        "**Data Cleaning and removing --\"-- from the datapoints**"
      ]
    },
    {
      "cell_type": "code",
      "metadata": {
        "id": "3yVBYAuxyqC5"
      },
      "source": [
        "reg=pd.DataFrame(df['Region'].str.replace('\"',''))\n",
        "Coun=pd.DataFrame(df['Country'].str.replace('\"',''))"
      ],
      "execution_count": 108,
      "outputs": []
    },
    {
      "cell_type": "code",
      "metadata": {
        "id": "jce7_yaJy7L8"
      },
      "source": [
        "df['Region']=reg['Region']\n",
        "df['Country']=Coun['Country']"
      ],
      "execution_count": 110,
      "outputs": []
    },
    {
      "cell_type": "code",
      "metadata": {
        "colab": {
          "base_uri": "https://localhost:8080/",
          "height": 202
        },
        "id": "jJ_ygIdCzw9T",
        "outputId": "90c158cd-11d9-435b-b33d-3d2d0a8c0f3b"
      },
      "source": [
        "df.head()"
      ],
      "execution_count": 111,
      "outputs": [
        {
          "output_type": "execute_result",
          "data": {
            "text/html": [
              "<div>\n",
              "<style scoped>\n",
              "    .dataframe tbody tr th:only-of-type {\n",
              "        vertical-align: middle;\n",
              "    }\n",
              "\n",
              "    .dataframe tbody tr th {\n",
              "        vertical-align: top;\n",
              "    }\n",
              "\n",
              "    .dataframe thead th {\n",
              "        text-align: right;\n",
              "    }\n",
              "</style>\n",
              "<table border=\"1\" class=\"dataframe\">\n",
              "  <thead>\n",
              "    <tr style=\"text-align: right;\">\n",
              "      <th></th>\n",
              "      <th>City</th>\n",
              "      <th>Region</th>\n",
              "      <th>Country</th>\n",
              "      <th>InternetPrice</th>\n",
              "    </tr>\n",
              "  </thead>\n",
              "  <tbody>\n",
              "    <tr>\n",
              "      <th>0</th>\n",
              "      <td>New York City</td>\n",
              "      <td>New York</td>\n",
              "      <td>United States of America</td>\n",
              "      <td>66.441395</td>\n",
              "    </tr>\n",
              "    <tr>\n",
              "      <th>1</th>\n",
              "      <td>Washington, D.C.</td>\n",
              "      <td>District of Columbia</td>\n",
              "      <td>United States of America</td>\n",
              "      <td>60.590455</td>\n",
              "    </tr>\n",
              "    <tr>\n",
              "      <th>2</th>\n",
              "      <td>San Francisco</td>\n",
              "      <td>California</td>\n",
              "      <td>United States of America</td>\n",
              "      <td>68.988824</td>\n",
              "    </tr>\n",
              "    <tr>\n",
              "      <th>3</th>\n",
              "      <td>Berlin</td>\n",
              "      <td></td>\n",
              "      <td>Germany</td>\n",
              "      <td>35.827084</td>\n",
              "    </tr>\n",
              "    <tr>\n",
              "      <th>4</th>\n",
              "      <td>Los Angeles</td>\n",
              "      <td>California</td>\n",
              "      <td>United States of America</td>\n",
              "      <td>66.690222</td>\n",
              "    </tr>\n",
              "  </tbody>\n",
              "</table>\n",
              "</div>"
            ],
            "text/plain": [
              "               City  ... InternetPrice\n",
              "0     New York City  ...     66.441395\n",
              "1  Washington, D.C.  ...     60.590455\n",
              "2     San Francisco  ...     68.988824\n",
              "3            Berlin  ...     35.827084\n",
              "4       Los Angeles  ...     66.690222\n",
              "\n",
              "[5 rows x 4 columns]"
            ]
          },
          "metadata": {},
          "execution_count": 111
        }
      ]
    }
  ]
}