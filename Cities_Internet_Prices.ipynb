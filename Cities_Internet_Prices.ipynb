{
  "nbformat": 4,
  "nbformat_minor": 0,
  "metadata": {
    "colab": {
      "name": "Cities Internet Prices.ipynb",
      "provenance": [],
      "authorship_tag": "ABX9TyPLZUWMEu2++DzhyZqDFfL0",
      "include_colab_link": true
    },
    "kernelspec": {
      "name": "python3",
      "display_name": "Python 3"
    },
    "language_info": {
      "name": "python"
    }
  },
  "cells": [
    {
      "cell_type": "markdown",
      "metadata": {
        "id": "view-in-github",
        "colab_type": "text"
      },
      "source": [
        "<a href=\"https://colab.research.google.com/github/Manikandan-professional/Cities-Internet-Prices/blob/main/Cities_Internet_Prices.ipynb\" target=\"_parent\"><img src=\"https://colab.research.google.com/assets/colab-badge.svg\" alt=\"Open In Colab\"/></a>"
      ]
    },
    {
      "cell_type": "markdown",
      "metadata": {
        "id": "exLfUCxRqaKE"
      },
      "source": [
        "# **Cities Internet Prices**"
      ]
    },
    {
      "cell_type": "markdown",
      "metadata": {
        "id": "yVdW41mh1uZ5"
      },
      "source": [
        "**Importing the Necessary Moduels**"
      ]
    },
    {
      "cell_type": "code",
      "metadata": {
        "id": "o15kk1LggFRv"
      },
      "source": [
        "import pandas as pd\n",
        "import numpy as np"
      ],
      "execution_count": null,
      "outputs": []
    },
    {
      "cell_type": "markdown",
      "metadata": {
        "id": "7629oYZA13v_"
      },
      "source": [
        "**Reading the csv file**"
      ]
    },
    {
      "cell_type": "code",
      "metadata": {
        "colab": {
          "base_uri": "https://localhost:8080/",
          "height": 414
        },
        "id": "S3JPdLqw10SU",
        "outputId": "454d9873-327b-4e97-c9a3-99c0bddbd18d"
      },
      "source": [
        "a=pd.read_csv('https://raw.githubusercontent.com/Manikandan-professional/Cities-Internet-Prices/main/cities_internet_prices.19-10-2021.csv')\n",
        "a"
      ],
      "execution_count": null,
      "outputs": [
        {
          "output_type": "execute_result",
          "data": {
            "text/html": [
              "<div>\n",
              "<style scoped>\n",
              "    .dataframe tbody tr th:only-of-type {\n",
              "        vertical-align: middle;\n",
              "    }\n",
              "\n",
              "    .dataframe tbody tr th {\n",
              "        vertical-align: top;\n",
              "    }\n",
              "\n",
              "    .dataframe thead th {\n",
              "        text-align: right;\n",
              "    }\n",
              "</style>\n",
              "<table border=\"1\" class=\"dataframe\">\n",
              "  <thead>\n",
              "    <tr style=\"text-align: right;\">\n",
              "      <th></th>\n",
              "      <th>City</th>\n",
              "      <th>\"Region\"</th>\n",
              "      <th>\"Country\"</th>\n",
              "      <th>\"InternetPrice\"</th>\n",
              "    </tr>\n",
              "  </thead>\n",
              "  <tbody>\n",
              "    <tr>\n",
              "      <th>0</th>\n",
              "      <td>New York City</td>\n",
              "      <td>\"New York\"</td>\n",
              "      <td>\"United States of America\"</td>\n",
              "      <td>66.441395</td>\n",
              "    </tr>\n",
              "    <tr>\n",
              "      <th>1</th>\n",
              "      <td>Washington, D.C.</td>\n",
              "      <td>\"District of Columbia\"</td>\n",
              "      <td>\"United States of America\"</td>\n",
              "      <td>60.590455</td>\n",
              "    </tr>\n",
              "    <tr>\n",
              "      <th>2</th>\n",
              "      <td>San Francisco</td>\n",
              "      <td>\"California\"</td>\n",
              "      <td>\"United States of America\"</td>\n",
              "      <td>68.988824</td>\n",
              "    </tr>\n",
              "    <tr>\n",
              "      <th>3</th>\n",
              "      <td>Berlin</td>\n",
              "      <td>\"\"</td>\n",
              "      <td>\"Germany\"</td>\n",
              "      <td>35.827084</td>\n",
              "    </tr>\n",
              "    <tr>\n",
              "      <th>4</th>\n",
              "      <td>Los Angeles</td>\n",
              "      <td>\"California\"</td>\n",
              "      <td>\"United States of America\"</td>\n",
              "      <td>66.690222</td>\n",
              "    </tr>\n",
              "    <tr>\n",
              "      <th>...</th>\n",
              "      <td>...</td>\n",
              "      <td>...</td>\n",
              "      <td>...</td>\n",
              "      <td>...</td>\n",
              "    </tr>\n",
              "    <tr>\n",
              "      <th>514</th>\n",
              "      <td>Kaunas</td>\n",
              "      <td>\"\"</td>\n",
              "      <td>\"Lithuania\"</td>\n",
              "      <td>11.211636</td>\n",
              "    </tr>\n",
              "    <tr>\n",
              "      <th>515</th>\n",
              "      <td>Antwerp</td>\n",
              "      <td>\"Flemish Region\"</td>\n",
              "      <td>\"Belgium\"</td>\n",
              "      <td>54.136225</td>\n",
              "    </tr>\n",
              "    <tr>\n",
              "      <th>516</th>\n",
              "      <td>Zaragoza</td>\n",
              "      <td>\"Aragon\"</td>\n",
              "      <td>\"Spain\"</td>\n",
              "      <td>31.842382</td>\n",
              "    </tr>\n",
              "    <tr>\n",
              "      <th>517</th>\n",
              "      <td>Arlington</td>\n",
              "      <td>\"Virginia\"</td>\n",
              "      <td>\"United States of America\"</td>\n",
              "      <td>58.875000</td>\n",
              "    </tr>\n",
              "    <tr>\n",
              "      <th>518</th>\n",
              "      <td>Jubail</td>\n",
              "      <td>\"Eastern Province\"</td>\n",
              "      <td>\"Saudi Arabia\"</td>\n",
              "      <td>52.158321</td>\n",
              "    </tr>\n",
              "  </tbody>\n",
              "</table>\n",
              "<p>519 rows × 4 columns</p>\n",
              "</div>"
            ],
            "text/plain": [
              "                 City  ...  \"InternetPrice\"\n",
              "0       New York City  ...        66.441395\n",
              "1    Washington, D.C.  ...        60.590455\n",
              "2       San Francisco  ...        68.988824\n",
              "3              Berlin  ...        35.827084\n",
              "4         Los Angeles  ...        66.690222\n",
              "..                ...  ...              ...\n",
              "514            Kaunas  ...        11.211636\n",
              "515           Antwerp  ...        54.136225\n",
              "516          Zaragoza  ...        31.842382\n",
              "517         Arlington  ...        58.875000\n",
              "518            Jubail  ...        52.158321\n",
              "\n",
              "[519 rows x 4 columns]"
            ]
          },
          "metadata": {},
          "execution_count": 3
        }
      ]
    },
    {
      "cell_type": "markdown",
      "metadata": {
        "id": "MqMqafey2CdX"
      },
      "source": [
        "**Conversion of csv file to DataFrame**"
      ]
    },
    {
      "cell_type": "code",
      "metadata": {
        "id": "Mbc2S4P02C4g"
      },
      "source": [
        "df=pd.DataFrame(a)"
      ],
      "execution_count": null,
      "outputs": []
    },
    {
      "cell_type": "markdown",
      "metadata": {
        "id": "qhO3FSg819QY"
      },
      "source": [
        "**First five row preview of the loaded dataset**"
      ]
    },
    {
      "cell_type": "code",
      "metadata": {
        "colab": {
          "base_uri": "https://localhost:8080/",
          "height": 202
        },
        "id": "sJNNIROr10PZ",
        "outputId": "06a07863-3c0b-4c8b-ebc7-52124db82e4c"
      },
      "source": [
        "df.head()"
      ],
      "execution_count": null,
      "outputs": [
        {
          "output_type": "execute_result",
          "data": {
            "text/html": [
              "<div>\n",
              "<style scoped>\n",
              "    .dataframe tbody tr th:only-of-type {\n",
              "        vertical-align: middle;\n",
              "    }\n",
              "\n",
              "    .dataframe tbody tr th {\n",
              "        vertical-align: top;\n",
              "    }\n",
              "\n",
              "    .dataframe thead th {\n",
              "        text-align: right;\n",
              "    }\n",
              "</style>\n",
              "<table border=\"1\" class=\"dataframe\">\n",
              "  <thead>\n",
              "    <tr style=\"text-align: right;\">\n",
              "      <th></th>\n",
              "      <th>City</th>\n",
              "      <th>\"Region\"</th>\n",
              "      <th>\"Country\"</th>\n",
              "      <th>\"InternetPrice\"</th>\n",
              "    </tr>\n",
              "  </thead>\n",
              "  <tbody>\n",
              "    <tr>\n",
              "      <th>0</th>\n",
              "      <td>New York City</td>\n",
              "      <td>\"New York\"</td>\n",
              "      <td>\"United States of America\"</td>\n",
              "      <td>66.441395</td>\n",
              "    </tr>\n",
              "    <tr>\n",
              "      <th>1</th>\n",
              "      <td>Washington, D.C.</td>\n",
              "      <td>\"District of Columbia\"</td>\n",
              "      <td>\"United States of America\"</td>\n",
              "      <td>60.590455</td>\n",
              "    </tr>\n",
              "    <tr>\n",
              "      <th>2</th>\n",
              "      <td>San Francisco</td>\n",
              "      <td>\"California\"</td>\n",
              "      <td>\"United States of America\"</td>\n",
              "      <td>68.988824</td>\n",
              "    </tr>\n",
              "    <tr>\n",
              "      <th>3</th>\n",
              "      <td>Berlin</td>\n",
              "      <td>\"\"</td>\n",
              "      <td>\"Germany\"</td>\n",
              "      <td>35.827084</td>\n",
              "    </tr>\n",
              "    <tr>\n",
              "      <th>4</th>\n",
              "      <td>Los Angeles</td>\n",
              "      <td>\"California\"</td>\n",
              "      <td>\"United States of America\"</td>\n",
              "      <td>66.690222</td>\n",
              "    </tr>\n",
              "  </tbody>\n",
              "</table>\n",
              "</div>"
            ],
            "text/plain": [
              "               City  ...  \"InternetPrice\"\n",
              "0     New York City  ...        66.441395\n",
              "1  Washington, D.C.  ...        60.590455\n",
              "2     San Francisco  ...        68.988824\n",
              "3            Berlin  ...        35.827084\n",
              "4       Los Angeles  ...        66.690222\n",
              "\n",
              "[5 rows x 4 columns]"
            ]
          },
          "metadata": {},
          "execution_count": 5
        }
      ]
    },
    {
      "cell_type": "markdown",
      "metadata": {
        "id": "Bjz5d6PE2Pm5"
      },
      "source": [
        "**Columns in the DataFrame(df)**"
      ]
    },
    {
      "cell_type": "code",
      "metadata": {
        "colab": {
          "base_uri": "https://localhost:8080/"
        },
        "id": "tL7fOiDH10Mg",
        "outputId": "2b452c8f-211b-48e4-e321-1174fdd7d3ea"
      },
      "source": [
        "list(df.columns)"
      ],
      "execution_count": null,
      "outputs": [
        {
          "output_type": "execute_result",
          "data": {
            "text/plain": [
              "['City', ' \"Region\"', ' \"Country\"', ' \"InternetPrice\"']"
            ]
          },
          "metadata": {},
          "execution_count": 6
        }
      ]
    },
    {
      "cell_type": "code",
      "metadata": {
        "colab": {
          "base_uri": "https://localhost:8080/"
        },
        "id": "Nfb-Ki8r2gwh",
        "outputId": "bb092b04-f258-45d4-ab09-d0cc7d1d9492"
      },
      "source": [
        "df.isnull().sum()"
      ],
      "execution_count": null,
      "outputs": [
        {
          "output_type": "execute_result",
          "data": {
            "text/plain": [
              "City                0\n",
              " \"Region\"           0\n",
              " \"Country\"          0\n",
              " \"InternetPrice\"    0\n",
              "dtype: int64"
            ]
          },
          "metadata": {},
          "execution_count": 7
        }
      ]
    },
    {
      "cell_type": "code",
      "metadata": {
        "colab": {
          "base_uri": "https://localhost:8080/"
        },
        "id": "xlOkxguM10Jv",
        "outputId": "c1009ed0-a259-49b1-c587-f4c5fc727aee"
      },
      "source": [
        "df.info()"
      ],
      "execution_count": null,
      "outputs": [
        {
          "output_type": "stream",
          "name": "stdout",
          "text": [
            "<class 'pandas.core.frame.DataFrame'>\n",
            "RangeIndex: 519 entries, 0 to 518\n",
            "Data columns (total 4 columns):\n",
            " #   Column            Non-Null Count  Dtype  \n",
            "---  ------            --------------  -----  \n",
            " 0   City              519 non-null    object \n",
            " 1    \"Region\"         519 non-null    object \n",
            " 2    \"Country\"        519 non-null    object \n",
            " 3    \"InternetPrice\"  519 non-null    float64\n",
            "dtypes: float64(1), object(3)\n",
            "memory usage: 16.3+ KB\n"
          ]
        }
      ]
    }
  ]
}